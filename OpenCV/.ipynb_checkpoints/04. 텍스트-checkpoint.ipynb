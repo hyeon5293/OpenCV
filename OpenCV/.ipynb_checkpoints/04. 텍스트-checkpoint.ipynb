{
 "cells": [
  {
   "cell_type": "markdown",
   "id": "b2c5245a",
   "metadata": {},
   "source": [
    "# 4. 텍스트"
   ]
  },
  {
   "cell_type": "markdown",
   "id": "a1fcfe93",
   "metadata": {},
   "source": [
    "## OpenCV 에서 사용하는 글꼴 종류\n",
    "1. cv2.FONT_HERSHEY_SIMPLEX : 보통 크기의 산 세리프(sans-serif) 글꼴\n",
    "1. cv2.FONT_HERSHEY_PLAIN : 작은 크기의 산 세리프(sans-serif) 글꼴\n",
    "1. cv2.FONT_HERSHEY_SCRIPT_SIMPLEX : 필기체 스타일\n",
    "1. cv2.FONT_HERSHEY_TRIPLEX : 보통 크기의 세리프 글꼴\n",
    "1. cv2.FONT_ITALIC : 기울임 (이탤릭체)"
   ]
  },
  {
   "cell_type": "code",
   "execution_count": 11,
   "id": "b6304f29",
   "metadata": {},
   "outputs": [],
   "source": [
    "import cv2\n",
    "import numpy as np\n",
    "\n",
    "img = np.zeros((480, 640, 3), dtype = np.uint8)\n",
    "\n",
    "SCALE = 1\n",
    "COLOR = (255, 255, 255) # 흰색\n",
    "THICKNESS = 1\n",
    "\n",
    "cv2.putText(img, 'Nado Simplex', (20, 50), cv2.FONT_HERSHEY_SIMPLEX, SCALE, COLOR, THICKNESS)\n",
    "# 그릴 위치, 텍스트 내용, 시작위치, 폰트, 크기, 색깔, 두께\n",
    "cv2.putText(img, 'Nado plain', (20, 150), cv2.FONT_HERSHEY_PLAIN, SCALE, COLOR, THICKNESS)\n",
    "cv2.putText(img, 'Nado Script Simplex', (20, 250), cv2.FONT_HERSHEY_SCRIPT_SIMPLEX, SCALE, COLOR, THICKNESS)\n",
    "cv2.putText(img, 'Nado Triplex', (20, 350), cv2.FONT_HERSHEY_TRIPLEX, SCALE, COLOR, THICKNESS)\n",
    "cv2.putText(img, 'Nado Italic', (20, 450), cv2.FONT_HERSHEY_TRIPLEX | cv2.FONT_ITALIC, SCALE, COLOR, THICKNESS)\n",
    "\n",
    "cv2.imshow('img', img)\n",
    "cv2.waitKey(0)\n",
    "cv2.destroyAllWindows()"
   ]
  },
  {
   "cell_type": "markdown",
   "id": "fafdbfcf",
   "metadata": {},
   "source": [
    "## 한글"
   ]
  },
  {
   "cell_type": "code",
   "execution_count": 12,
   "id": "693155ee",
   "metadata": {},
   "outputs": [],
   "source": [
    "import cv2\n",
    "import numpy as np\n",
    "\n",
    "img = np.zeros((480, 640, 3), dtype = np.uint8)\n",
    "\n",
    "SCALE = 1\n",
    "COLOR = (255, 255, 255) # 흰색\n",
    "THICKNESS = 1\n",
    "\n",
    "cv2.putText(img, '나도 코딩', (20, 50), cv2.FONT_HERSHEY_SIMPLEX, SCALE, COLOR, THICKNESS)\n",
    "# 그릴 위치, 텍스트 내용, 시작위치, 폰트, 크기, 색깔, 두께\n",
    "\n",
    "\n",
    "cv2.imshow('img', img)\n",
    "cv2.waitKey(0)\n",
    "cv2.destroyAllWindows()"
   ]
  },
  {
   "cell_type": "markdown",
   "id": "953f8ebb",
   "metadata": {},
   "source": [
    "## 한글 우회 방법"
   ]
  },
  {
   "cell_type": "code",
   "execution_count": 13,
   "id": "6a327310",
   "metadata": {},
   "outputs": [],
   "source": [
    "import cv2\n",
    "import numpy as np\n",
    "# PIL (Python Image Library)\n",
    "from PIL import ImageFont, ImageDraw, Image\n",
    "\n",
    "def myPutText(src, text, pos, font_size, font_color):\n",
    "    img_pil = Image.fromarray(src)\n",
    "    draw = ImageDraw.Draw(img_pil)\n",
    "    font = ImageFont.truetype('fonts/gulim.ttc', font_size)\n",
    "    draw.text(pos, text, font=font, fill=font_color)\n",
    "    return np.array(img_pil)\n",
    "\n",
    "img = np.zeros((480, 640, 3), dtype = np.uint8)\n",
    "\n",
    "FONT_SIZE = 30\n",
    "COLOR = (255, 255, 255) # 흰색\n",
    "\n",
    "# cv2.putText(img, '나도 코딩', (20, 50), cv2.FONT_HERSHEY_SIMPLEX, SCALE, COLOR, THICKNESS)\n",
    "# 그릴 위치, 텍스트 내용, 시작위치, 폰트, 크기, 색깔, 두께\n",
    "img = myPutText(img, '한글 한글', (20, 50), FONT_SIZE, COLOR)\n",
    "\n",
    "cv2.imshow('img', img)\n",
    "cv2.waitKey(0)\n",
    "cv2.destroyAllWindows()"
   ]
  }
 ],
 "metadata": {
  "kernelspec": {
   "display_name": "Python 3",
   "language": "python",
   "name": "python3"
  },
  "language_info": {
   "codemirror_mode": {
    "name": "ipython",
    "version": 3
   },
   "file_extension": ".py",
   "mimetype": "text/x-python",
   "name": "python",
   "nbconvert_exporter": "python",
   "pygments_lexer": "ipython3",
   "version": "3.8.8"
  }
 },
 "nbformat": 4,
 "nbformat_minor": 5
}
